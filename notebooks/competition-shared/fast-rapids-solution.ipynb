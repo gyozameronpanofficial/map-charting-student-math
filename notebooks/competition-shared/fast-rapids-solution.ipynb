{
 "cells": [
  {
   "cell_type": "code",
   "execution_count": 1,
   "id": "5363ede8",
   "metadata": {
    "_cell_guid": "b1076dfc-b9ad-4769-8c92-a6c4dae69d19",
    "_uuid": "8f2839f25d086af736a60e9eeb907d3b93b6e0e5",
    "execution": {
     "iopub.execute_input": "2025-07-10T20:39:12.728321Z",
     "iopub.status.busy": "2025-07-10T20:39:12.728023Z",
     "iopub.status.idle": "2025-07-10T20:39:32.240246Z",
     "shell.execute_reply": "2025-07-10T20:39:32.239243Z"
    },
    "papermill": {
     "duration": 19.518595,
     "end_time": "2025-07-10T20:39:32.241861",
     "exception": false,
     "start_time": "2025-07-10T20:39:12.723266",
     "status": "completed"
    },
    "tags": []
   },
   "outputs": [
    {
     "name": "stdout",
     "output_type": "stream",
     "text": [
      "RAPIDS 25.02.01\n"
     ]
    }
   ],
   "source": [
    "%load_ext cudf.pandas\n",
    "\n",
    "import numpy as np\n",
    "import cudf\n",
    "import cuml\n",
    "import pandas as pd\n",
    "import sklearn\n",
    "from cuml.feature_extraction.text import TfidfVectorizer\n",
    "from sklearn.model_selection import StratifiedKFold\n",
    "\n",
    "print('RAPIDS',cuml.__version__)"
   ]
  },
  {
   "cell_type": "code",
   "execution_count": 2,
   "id": "9e024bd9",
   "metadata": {
    "execution": {
     "iopub.execute_input": "2025-07-10T20:39:32.251095Z",
     "iopub.status.busy": "2025-07-10T20:39:32.250537Z",
     "iopub.status.idle": "2025-07-10T20:39:36.649822Z",
     "shell.execute_reply": "2025-07-10T20:39:36.648966Z"
    },
    "papermill": {
     "duration": 4.405168,
     "end_time": "2025-07-10T20:39:36.651038",
     "exception": false,
     "start_time": "2025-07-10T20:39:32.245870",
     "status": "completed"
    },
    "tags": []
   },
   "outputs": [
    {
     "name": "stdout",
     "output_type": "stream",
     "text": [
      "(36696, 8) (3, 5)\n"
     ]
    },
    {
     "data": {
      "text/html": [
       "<div>\n",
       "<style scoped>\n",
       "    .dataframe tbody tr th:only-of-type {\n",
       "        vertical-align: middle;\n",
       "    }\n",
       "\n",
       "    .dataframe tbody tr th {\n",
       "        vertical-align: top;\n",
       "    }\n",
       "\n",
       "    .dataframe thead th {\n",
       "        text-align: right;\n",
       "    }\n",
       "</style>\n",
       "<table border=\"1\" class=\"dataframe\">\n",
       "  <thead>\n",
       "    <tr style=\"text-align: right;\">\n",
       "      <th></th>\n",
       "      <th>row_id</th>\n",
       "      <th>QuestionId</th>\n",
       "      <th>QuestionText</th>\n",
       "      <th>MC_Answer</th>\n",
       "      <th>StudentExplanation</th>\n",
       "      <th>Category</th>\n",
       "      <th>Misconception</th>\n",
       "      <th>target_cat</th>\n",
       "    </tr>\n",
       "  </thead>\n",
       "  <tbody>\n",
       "    <tr>\n",
       "      <th>0</th>\n",
       "      <td>0</td>\n",
       "      <td>31772</td>\n",
       "      <td>What fraction of the shape is not shaded? Give...</td>\n",
       "      <td>\\( \\frac{1}{3} \\)</td>\n",
       "      <td>0ne third is equal to tree nineth</td>\n",
       "      <td>True_Correct</td>\n",
       "      <td>NA</td>\n",
       "      <td>True_Correct:NA</td>\n",
       "    </tr>\n",
       "    <tr>\n",
       "      <th>1</th>\n",
       "      <td>1</td>\n",
       "      <td>31772</td>\n",
       "      <td>What fraction of the shape is not shaded? Give...</td>\n",
       "      <td>\\( \\frac{1}{3} \\)</td>\n",
       "      <td>1 / 3 because 6 over 9 is 2 thirds and 1 third...</td>\n",
       "      <td>True_Correct</td>\n",
       "      <td>NA</td>\n",
       "      <td>True_Correct:NA</td>\n",
       "    </tr>\n",
       "    <tr>\n",
       "      <th>2</th>\n",
       "      <td>2</td>\n",
       "      <td>31772</td>\n",
       "      <td>What fraction of the shape is not shaded? Give...</td>\n",
       "      <td>\\( \\frac{1}{3} \\)</td>\n",
       "      <td>1 3rd is half of 3 6th, so it is simplee to un...</td>\n",
       "      <td>True_Neither</td>\n",
       "      <td>NA</td>\n",
       "      <td>True_Neither:NA</td>\n",
       "    </tr>\n",
       "    <tr>\n",
       "      <th>3</th>\n",
       "      <td>3</td>\n",
       "      <td>31772</td>\n",
       "      <td>What fraction of the shape is not shaded? Give...</td>\n",
       "      <td>\\( \\frac{1}{3} \\)</td>\n",
       "      <td>1 goes into everything and 3 goes into nine</td>\n",
       "      <td>True_Neither</td>\n",
       "      <td>NA</td>\n",
       "      <td>True_Neither:NA</td>\n",
       "    </tr>\n",
       "    <tr>\n",
       "      <th>4</th>\n",
       "      <td>4</td>\n",
       "      <td>31772</td>\n",
       "      <td>What fraction of the shape is not shaded? Give...</td>\n",
       "      <td>\\( \\frac{1}{3} \\)</td>\n",
       "      <td>1 out of every 3 isn't coloured</td>\n",
       "      <td>True_Correct</td>\n",
       "      <td>NA</td>\n",
       "      <td>True_Correct:NA</td>\n",
       "    </tr>\n",
       "  </tbody>\n",
       "</table>\n",
       "</div>"
      ],
      "text/plain": [
       "   row_id  QuestionId                                       QuestionText  \\\n",
       "0       0       31772  What fraction of the shape is not shaded? Give...   \n",
       "1       1       31772  What fraction of the shape is not shaded? Give...   \n",
       "2       2       31772  What fraction of the shape is not shaded? Give...   \n",
       "3       3       31772  What fraction of the shape is not shaded? Give...   \n",
       "4       4       31772  What fraction of the shape is not shaded? Give...   \n",
       "\n",
       "           MC_Answer                                 StudentExplanation  \\\n",
       "0  \\( \\frac{1}{3} \\)                  0ne third is equal to tree nineth   \n",
       "1  \\( \\frac{1}{3} \\)  1 / 3 because 6 over 9 is 2 thirds and 1 third...   \n",
       "2  \\( \\frac{1}{3} \\)  1 3rd is half of 3 6th, so it is simplee to un...   \n",
       "3  \\( \\frac{1}{3} \\)        1 goes into everything and 3 goes into nine   \n",
       "4  \\( \\frac{1}{3} \\)                    1 out of every 3 isn't coloured   \n",
       "\n",
       "       Category Misconception       target_cat  \n",
       "0  True_Correct            NA  True_Correct:NA  \n",
       "1  True_Correct            NA  True_Correct:NA  \n",
       "2  True_Neither            NA  True_Neither:NA  \n",
       "3  True_Neither            NA  True_Neither:NA  \n",
       "4  True_Correct            NA  True_Correct:NA  "
      ]
     },
     "execution_count": 2,
     "metadata": {},
     "output_type": "execute_result"
    }
   ],
   "source": [
    "train = pd.read_csv(\"/kaggle/input/map-charting-student-math-misunderstandings/train.csv\")\n",
    "test = pd.read_csv(\"/kaggle/input/map-charting-student-math-misunderstandings/test.csv\")\n",
    "\n",
    "train['Misconception'] = train['Misconception'].fillna('NA')\n",
    "train['Misconception'] = train['Misconception'].map(str)\n",
    "train['target_cat'] = train.apply(lambda x: x['Category'] + \":\" + x['Misconception'], axis=1)\n",
    "\n",
    "print(train.shape, test.shape)\n",
    "train.head()"
   ]
  },
  {
   "cell_type": "code",
   "execution_count": 3,
   "id": "4d62054a",
   "metadata": {
    "execution": {
     "iopub.execute_input": "2025-07-10T20:39:36.659172Z",
     "iopub.status.busy": "2025-07-10T20:39:36.658948Z",
     "iopub.status.idle": "2025-07-10T20:39:37.017395Z",
     "shell.execute_reply": "2025-07-10T20:39:37.016613Z"
    },
    "papermill": {
     "duration": 0.363882,
     "end_time": "2025-07-10T20:39:37.018715",
     "exception": false,
     "start_time": "2025-07-10T20:39:36.654833",
     "status": "completed"
    },
    "tags": []
   },
   "outputs": [
    {
     "data": {
      "text/plain": [
       "target_cat\n",
       "True_Correct:NA                            14802\n",
       "False_Neither:NA                            6542\n",
       "True_Neither:NA                             5265\n",
       "False_Misconception:Incomplete              1446\n",
       "False_Misconception:Additive                 891\n",
       "                                           ...  \n",
       "True_Misconception:Adding_across               1\n",
       "True_Misconception:Base_rate                   1\n",
       "True_Misconception:Longer_is_bigger            1\n",
       "True_Misconception:Not_variable                1\n",
       "True_Misconception:Whole_numbers_larger        1\n",
       "Name: count, Length: 65, dtype: int64"
      ]
     },
     "execution_count": 3,
     "metadata": {},
     "output_type": "execute_result"
    }
   ],
   "source": [
    "train['target_cat'].value_counts()"
   ]
  },
  {
   "cell_type": "code",
   "execution_count": 4,
   "id": "9bf271a4",
   "metadata": {
    "execution": {
     "iopub.execute_input": "2025-07-10T20:39:37.026685Z",
     "iopub.status.busy": "2025-07-10T20:39:37.026435Z",
     "iopub.status.idle": "2025-07-10T20:39:37.060454Z",
     "shell.execute_reply": "2025-07-10T20:39:37.059863Z"
    },
    "papermill": {
     "duration": 0.039324,
     "end_time": "2025-07-10T20:39:37.061640",
     "exception": false,
     "start_time": "2025-07-10T20:39:37.022316",
     "status": "completed"
    },
    "tags": []
   },
   "outputs": [
    {
     "data": {
      "text/plain": [
       "{'True_Correct': 0,\n",
       " 'False_Misconception': 1,\n",
       " 'False_Neither': 2,\n",
       " 'True_Neither': 3,\n",
       " 'True_Misconception': 4,\n",
       " 'False_Correct': 5}"
      ]
     },
     "execution_count": 4,
     "metadata": {},
     "output_type": "execute_result"
    }
   ],
   "source": [
    "map_target1 = train['Category'].value_counts().to_frame()\n",
    "map_target1['count'] = np.arange(len(map_target1))\n",
    "map_target1 = map_target1.to_dict()['count']\n",
    "\n",
    "map_target2 = train['Misconception'].value_counts().to_frame()\n",
    "map_target2['count'] = np.arange(len(map_target2))\n",
    "map_target2 = map_target2.to_dict()['count']\n",
    "\n",
    "map_target1"
   ]
  },
  {
   "cell_type": "code",
   "execution_count": 5,
   "id": "5da3ba90",
   "metadata": {
    "execution": {
     "iopub.execute_input": "2025-07-10T20:39:37.069173Z",
     "iopub.status.busy": "2025-07-10T20:39:37.068932Z",
     "iopub.status.idle": "2025-07-10T20:39:37.298785Z",
     "shell.execute_reply": "2025-07-10T20:39:37.298027Z"
    },
    "papermill": {
     "duration": 0.235093,
     "end_time": "2025-07-10T20:39:37.300104",
     "exception": false,
     "start_time": "2025-07-10T20:39:37.065011",
     "status": "completed"
    },
    "tags": []
   },
   "outputs": [
    {
     "data": {
      "text/plain": [
       "Category\n",
       "True_Correct           14802\n",
       "False_Misconception     9457\n",
       "False_Neither           6542\n",
       "True_Neither            5265\n",
       "True_Misconception       403\n",
       "False_Correct            227\n",
       "Name: count, dtype: int64"
      ]
     },
     "execution_count": 5,
     "metadata": {},
     "output_type": "execute_result"
    }
   ],
   "source": [
    "train['target1'] = train['Category'].map(map_target1)\n",
    "train['target2'] = train['Misconception'].map(map_target2)\n",
    "\n",
    "train['Category'].value_counts()"
   ]
  },
  {
   "cell_type": "code",
   "execution_count": 6,
   "id": "ad8bff61",
   "metadata": {
    "execution": {
     "iopub.execute_input": "2025-07-10T20:39:37.308853Z",
     "iopub.status.busy": "2025-07-10T20:39:37.308602Z",
     "iopub.status.idle": "2025-07-10T20:39:37.378797Z",
     "shell.execute_reply": "2025-07-10T20:39:37.378022Z"
    },
    "papermill": {
     "duration": 0.076033,
     "end_time": "2025-07-10T20:39:37.380178",
     "exception": false,
     "start_time": "2025-07-10T20:39:37.304145",
     "status": "completed"
    },
    "scrolled": true,
    "tags": []
   },
   "outputs": [
    {
     "data": {
      "text/plain": [
       "Misconception\n",
       "NA                                        26836\n",
       "Incomplete                                 1454\n",
       "Additive                                    929\n",
       "Duplication                                 704\n",
       "Subtraction                                 620\n",
       "Positive                                    566\n",
       "Wrong_term                                  558\n",
       "Irrelevant                                  497\n",
       "Wrong_fraction                              418\n",
       "Inversion                                   414\n",
       "Mult                                        353\n",
       "Denominator-only_change                     336\n",
       "Whole_numbers_larger                        329\n",
       "Adding_across                               307\n",
       "WNB                                         299\n",
       "Tacking                                     290\n",
       "Unknowable                                  282\n",
       "Wrong_Fraction                              273\n",
       "SwapDividend                                206\n",
       "Scale                                       179\n",
       "Not_variable                                154\n",
       "Firstterm                                   107\n",
       "Adding_terms                                 97\n",
       "Multiplying_by_4                             96\n",
       "FlipChange                                   78\n",
       "Division                                     63\n",
       "Definition                                   54\n",
       "Interior                                     50\n",
       "Longer_is_bigger                             24\n",
       "Base_rate                                    23\n",
       "Ignores_zeroes                               23\n",
       "Shorter_is_bigger                            23\n",
       "Inverse_operation                            21\n",
       "Certainty                                    18\n",
       "Incorrect_equivalent_fraction_addition        9\n",
       "Wrong_Operation                               6\n",
       "Name: count, dtype: int64"
      ]
     },
     "execution_count": 6,
     "metadata": {},
     "output_type": "execute_result"
    }
   ],
   "source": [
    "train['Misconception'].value_counts()"
   ]
  },
  {
   "cell_type": "markdown",
   "id": "4e7d5fe0",
   "metadata": {
    "papermill": {
     "duration": 0.003404,
     "end_time": "2025-07-10T20:39:37.387934",
     "exception": false,
     "start_time": "2025-07-10T20:39:37.384530",
     "status": "completed"
    },
    "tags": []
   },
   "source": [
    "# Train Target Category"
   ]
  },
  {
   "cell_type": "code",
   "execution_count": 7,
   "id": "0ea37fda",
   "metadata": {
    "execution": {
     "iopub.execute_input": "2025-07-10T20:39:37.396732Z",
     "iopub.status.busy": "2025-07-10T20:39:37.396497Z",
     "iopub.status.idle": "2025-07-10T20:39:47.025808Z",
     "shell.execute_reply": "2025-07-10T20:39:47.024887Z"
    },
    "papermill": {
     "duration": 9.635747,
     "end_time": "2025-07-10T20:39:47.027195",
     "exception": false,
     "start_time": "2025-07-10T20:39:37.391448",
     "status": "completed"
    },
    "tags": []
   },
   "outputs": [
    {
     "name": "stdout",
     "output_type": "stream",
     "text": [
      "Train sparse shape is (36696, 37434)\n",
      "Test sparse shape is (3, 37434)\n"
     ]
    }
   ],
   "source": [
    "train['sentence'] = train.apply(lambda x: f\"Question: {x['QuestionText']}\\nAnswer: {x['MC_Answer']}\\nExplanation: {x['StudentExplanation']}\", axis=1)\n",
    "test['sentence'] = test.apply(lambda x: f\"Question: {x['QuestionText']}\\nAnswer: {x['MC_Answer']}\\nExplanation: {x['StudentExplanation']}\", axis=1)\n",
    "\n",
    "model = TfidfVectorizer(stop_words='english', ngram_range=(1, 3), analyzer='word', max_df=0.95, min_df=2)\n",
    "model.fit(pd.concat([train, test]).sentence)\n",
    "\n",
    "train_embeddings = model.transform(train.sentence)\n",
    "print('Train sparse shape is',train_embeddings.shape)\n",
    "\n",
    "test_embeddings = model.transform(test.sentence)\n",
    "print('Test sparse shape is',test_embeddings.shape)"
   ]
  },
  {
   "cell_type": "code",
   "execution_count": 8,
   "id": "9a8eed2a",
   "metadata": {
    "execution": {
     "iopub.execute_input": "2025-07-10T20:39:47.036104Z",
     "iopub.status.busy": "2025-07-10T20:39:47.035839Z",
     "iopub.status.idle": "2025-07-10T20:39:52.853545Z",
     "shell.execute_reply": "2025-07-10T20:39:52.852558Z"
    },
    "papermill": {
     "duration": 5.823529,
     "end_time": "2025-07-10T20:39:52.854716",
     "exception": false,
     "start_time": "2025-07-10T20:39:47.031187",
     "status": "completed"
    },
    "tags": []
   },
   "outputs": [
    {
     "name": "stdout",
     "output_type": "stream",
     "text": [
      "Fold 0, 33026, 3670:\n",
      "Fold 1, 33026, 3670:\n",
      "Fold 2, 33026, 3670:\n",
      "Fold 3, 33026, 3670:\n",
      "Fold 4, 33026, 3670:\n",
      "Fold 5, 33026, 3670:\n",
      "Fold 6, 33027, 3669:\n",
      "Fold 7, 33027, 3669:\n",
      "Fold 8, 33027, 3669:\n",
      "Fold 9, 33027, 3669:\n",
      "ACC: 0.7458578591672117\n",
      "F1: 0.7282006660973415\n"
     ]
    }
   ],
   "source": [
    "ytrain1 = np.zeros((len(train), len(map_target1)))\n",
    "ytest1 = np.zeros((len(test), len(map_target1)))\n",
    "\n",
    "skf = StratifiedKFold(n_splits=10, shuffle=True, random_state=None)\n",
    "for i, (train_index, valid_index) in enumerate(skf.split(train_embeddings, train['target1'])):\n",
    "    print(f\"Fold {i}, {len(train_index)}, {len(valid_index)}:\")\n",
    "    model = cuml.LogisticRegression()\n",
    "    model.fit(train_embeddings[train_index], train['target1'].iloc[train_index])\n",
    "    ytrain1[valid_index] = model.predict_proba(train_embeddings[valid_index]).get()\n",
    "    ytest1 += (model.predict_proba(test_embeddings).get() / 10.)\n",
    "\n",
    "print(\"ACC:\", np.mean( train['target1'] == np.argmax(ytrain1, 1) ) )\n",
    "print(\"F1:\", sklearn.metrics.f1_score(train['target1'] , np.argmax(ytrain1, 1), average='weighted') )"
   ]
  },
  {
   "cell_type": "markdown",
   "id": "c1047731",
   "metadata": {
    "papermill": {
     "duration": 0.004149,
     "end_time": "2025-07-10T20:39:52.863540",
     "exception": false,
     "start_time": "2025-07-10T20:39:52.859391",
     "status": "completed"
    },
    "tags": []
   },
   "source": [
    "# Train Target Misconception"
   ]
  },
  {
   "cell_type": "code",
   "execution_count": 9,
   "id": "c81bb3ed",
   "metadata": {
    "execution": {
     "iopub.execute_input": "2025-07-10T20:39:52.872858Z",
     "iopub.status.busy": "2025-07-10T20:39:52.872630Z",
     "iopub.status.idle": "2025-07-10T20:39:53.858106Z",
     "shell.execute_reply": "2025-07-10T20:39:53.857161Z"
    },
    "papermill": {
     "duration": 0.991895,
     "end_time": "2025-07-10T20:39:53.859590",
     "exception": false,
     "start_time": "2025-07-10T20:39:52.867695",
     "status": "completed"
    },
    "tags": []
   },
   "outputs": [
    {
     "name": "stdout",
     "output_type": "stream",
     "text": [
      "Train sparse shape is (36696, 17652)\n",
      "Test sparse shape is (3, 17652)\n"
     ]
    }
   ],
   "source": [
    "model = TfidfVectorizer(stop_words='english', ngram_range=(1, 2), analyzer='word', max_df=0.95, min_df=2)\n",
    "\n",
    "model.fit(pd.concat([train, test]).sentence)\n",
    "\n",
    "train_embeddings = model.transform(train.sentence)\n",
    "print('Train sparse shape is',train_embeddings.shape)\n",
    "\n",
    "test_embeddings = model.transform(test.sentence)\n",
    "print('Test sparse shape is',test_embeddings.shape)"
   ]
  },
  {
   "cell_type": "code",
   "execution_count": 10,
   "id": "3b21a785",
   "metadata": {
    "execution": {
     "iopub.execute_input": "2025-07-10T20:39:53.869384Z",
     "iopub.status.busy": "2025-07-10T20:39:53.869102Z",
     "iopub.status.idle": "2025-07-10T20:39:58.527949Z",
     "shell.execute_reply": "2025-07-10T20:39:58.526950Z"
    },
    "papermill": {
     "duration": 4.665422,
     "end_time": "2025-07-10T20:39:58.529393",
     "exception": false,
     "start_time": "2025-07-10T20:39:53.863971",
     "status": "completed"
    },
    "tags": []
   },
   "outputs": [
    {
     "name": "stdout",
     "output_type": "stream",
     "text": [
      "Fold 0, 33026, 3670:\n"
     ]
    },
    {
     "name": "stderr",
     "output_type": "stream",
     "text": [
      "/usr/local/lib/python3.11/dist-packages/sklearn/model_selection/_split.py:700: UserWarning: The least populated class in y has only 6 members, which is less than n_splits=10.\n",
      "  warnings.warn(\n"
     ]
    },
    {
     "name": "stdout",
     "output_type": "stream",
     "text": [
      "Fold 1, 33026, 3670:\n",
      "Fold 2, 33026, 3670:\n",
      "Fold 3, 33026, 3670:\n",
      "Fold 4, 33026, 3670:\n",
      "Fold 5, 33026, 3670:\n",
      "Fold 6, 33027, 3669:\n",
      "Fold 7, 33027, 3669:\n",
      "Fold 8, 33027, 3669:\n",
      "Fold 9, 33027, 3669:\n",
      "ACC: 0.8471495530848049\n",
      "F1: 0.8294698356955198\n"
     ]
    }
   ],
   "source": [
    "ytrain2 = np.zeros((len(train), len(map_target2)))\n",
    "ytest2 = np.zeros((len(test), len(map_target2)))\n",
    "\n",
    "skf = StratifiedKFold(n_splits=10, shuffle=True, random_state=None)\n",
    "for i, (train_index, valid_index) in enumerate(skf.split(train_embeddings, train['target2'])):\n",
    "    print(f\"Fold {i}, {len(train_index)}, {len(valid_index)}:\")\n",
    "    model = cuml.LogisticRegression(class_weight='balanced')\n",
    "    model.fit(train_embeddings[train_index], train['target2'].iloc[train_index])\n",
    "    ytrain2[valid_index] = model.predict_proba(train_embeddings[valid_index]).get()\n",
    "    ytest2 += (model.predict_proba(test_embeddings).get() / 10.)\n",
    "\n",
    "print(\"ACC:\", np.mean( train['target2'] == np.argmax(ytrain2, 1) ) )\n",
    "print(\"F1:\", sklearn.metrics.f1_score(train['target2'] , np.argmax(ytrain2, 1), average='weighted') )"
   ]
  },
  {
   "cell_type": "code",
   "execution_count": 11,
   "id": "b0315026",
   "metadata": {
    "execution": {
     "iopub.execute_input": "2025-07-10T20:39:58.540410Z",
     "iopub.status.busy": "2025-07-10T20:39:58.540141Z",
     "iopub.status.idle": "2025-07-10T20:39:58.544338Z",
     "shell.execute_reply": "2025-07-10T20:39:58.543558Z"
    },
    "papermill": {
     "duration": 0.011122,
     "end_time": "2025-07-10T20:39:58.545587",
     "exception": false,
     "start_time": "2025-07-10T20:39:58.534465",
     "status": "completed"
    },
    "tags": []
   },
   "outputs": [],
   "source": [
    "map_inverse1 = {map_target1[k]:k for k in map_target1}\n",
    "map_inverse2 = {map_target2[k]:k for k in map_target2}"
   ]
  },
  {
   "cell_type": "code",
   "execution_count": 12,
   "id": "8005b2b3",
   "metadata": {
    "execution": {
     "iopub.execute_input": "2025-07-10T20:39:58.555724Z",
     "iopub.status.busy": "2025-07-10T20:39:58.555500Z",
     "iopub.status.idle": "2025-07-10T20:39:58.594916Z",
     "shell.execute_reply": "2025-07-10T20:39:58.594343Z"
    },
    "papermill": {
     "duration": 0.046688,
     "end_time": "2025-07-10T20:39:58.596948",
     "exception": false,
     "start_time": "2025-07-10T20:39:58.550260",
     "status": "completed"
    },
    "tags": []
   },
   "outputs": [],
   "source": [
    "ytrain2[:, 0] = 0\n",
    "predicted1 = np.argsort(-ytrain1, 1)[:,:3]\n",
    "predicted2 = np.argsort(-ytrain2, 1)[:,:3]"
   ]
  },
  {
   "cell_type": "code",
   "execution_count": 13,
   "id": "c979a977",
   "metadata": {
    "execution": {
     "iopub.execute_input": "2025-07-10T20:39:58.612632Z",
     "iopub.status.busy": "2025-07-10T20:39:58.612251Z",
     "iopub.status.idle": "2025-07-10T20:39:59.017993Z",
     "shell.execute_reply": "2025-07-10T20:39:59.017065Z"
    },
    "papermill": {
     "duration": 0.416187,
     "end_time": "2025-07-10T20:39:59.019480",
     "exception": false,
     "start_time": "2025-07-10T20:39:58.603293",
     "status": "completed"
    },
    "tags": []
   },
   "outputs": [
    {
     "name": "stdout",
     "output_type": "stream",
     "text": [
      "0.7328864181382166\n",
      "0.15429474602136473\n",
      "0.03090255068672335\n"
     ]
    }
   ],
   "source": [
    "predict = []\n",
    "for i in range(len(predicted1)):\n",
    "    pred = []\n",
    "    for j in range(3):\n",
    "        p1 = map_inverse1[predicted1[i, j]]\n",
    "        p2 = map_inverse2[predicted2[i, j]]        \n",
    "        if 'Misconception' in p1:\n",
    "            pred.append(p1 + \":\" + p2 )\n",
    "        else:\n",
    "            pred.append(p1 + \":NA\")\n",
    "    predict.append(pred)\n",
    "\n",
    "#Acc 1\n",
    "print( np.mean(train['target_cat'] == [p[0] for p in predict]) )\n",
    "#Acc 2\n",
    "print( np.mean(train['target_cat'] == [p[1] for p in predict]) )\n",
    "#Acc 3\n",
    "print( np.mean(train['target_cat'] == [p[2] for p in predict]) )"
   ]
  },
  {
   "cell_type": "code",
   "execution_count": 14,
   "id": "4e300f83",
   "metadata": {
    "execution": {
     "iopub.execute_input": "2025-07-10T20:39:59.031053Z",
     "iopub.status.busy": "2025-07-10T20:39:59.030545Z",
     "iopub.status.idle": "2025-07-10T20:39:59.052494Z",
     "shell.execute_reply": "2025-07-10T20:39:59.051819Z"
    },
    "papermill": {
     "duration": 0.028891,
     "end_time": "2025-07-10T20:39:59.053674",
     "exception": false,
     "start_time": "2025-07-10T20:39:59.024783",
     "status": "completed"
    },
    "tags": []
   },
   "outputs": [
    {
     "name": "stdout",
     "output_type": "stream",
     "text": [
      "MAP@3: 0.8203346413778065\n"
     ]
    }
   ],
   "source": [
    "def map3(target_list, pred_list):\n",
    "    score = 0.\n",
    "    for t, p in zip(target_list, pred_list):\n",
    "        if t == p[0]:\n",
    "            score+=1.\n",
    "        elif t == p[1]:\n",
    "            score+=1/2\n",
    "        elif t == p[2]:\n",
    "            score+=1/3\n",
    "    return score / len(target_list)\n",
    "        \n",
    "print(f\"MAP@3: {map3(train['target_cat'].tolist(), predict)}\")"
   ]
  },
  {
   "cell_type": "markdown",
   "id": "68f0741e",
   "metadata": {
    "papermill": {
     "duration": 0.004778,
     "end_time": "2025-07-10T20:39:59.063154",
     "exception": false,
     "start_time": "2025-07-10T20:39:59.058376",
     "status": "completed"
    },
    "tags": []
   },
   "source": [
    "# Generate Test Predictions:"
   ]
  },
  {
   "cell_type": "code",
   "execution_count": 15,
   "id": "441bcbac",
   "metadata": {
    "execution": {
     "iopub.execute_input": "2025-07-10T20:39:59.073162Z",
     "iopub.status.busy": "2025-07-10T20:39:59.072917Z",
     "iopub.status.idle": "2025-07-10T20:39:59.132985Z",
     "shell.execute_reply": "2025-07-10T20:39:59.132159Z"
    },
    "papermill": {
     "duration": 0.066569,
     "end_time": "2025-07-10T20:39:59.134380",
     "exception": false,
     "start_time": "2025-07-10T20:39:59.067811",
     "status": "completed"
    },
    "tags": []
   },
   "outputs": [
    {
     "data": {
      "text/html": [
       "<div>\n",
       "<style scoped>\n",
       "    .dataframe tbody tr th:only-of-type {\n",
       "        vertical-align: middle;\n",
       "    }\n",
       "\n",
       "    .dataframe tbody tr th {\n",
       "        vertical-align: top;\n",
       "    }\n",
       "\n",
       "    .dataframe thead th {\n",
       "        text-align: right;\n",
       "    }\n",
       "</style>\n",
       "<table border=\"1\" class=\"dataframe\">\n",
       "  <thead>\n",
       "    <tr style=\"text-align: right;\">\n",
       "      <th></th>\n",
       "      <th>row_id</th>\n",
       "      <th>Category:Misconception</th>\n",
       "    </tr>\n",
       "  </thead>\n",
       "  <tbody>\n",
       "    <tr>\n",
       "      <th>0</th>\n",
       "      <td>36696</td>\n",
       "      <td>True_Correct:NA True_Neither:NA False_Neither:NA</td>\n",
       "    </tr>\n",
       "    <tr>\n",
       "      <th>1</th>\n",
       "      <td>36697</td>\n",
       "      <td>False_Misconception:Incomplete True_Correct:NA...</td>\n",
       "    </tr>\n",
       "    <tr>\n",
       "      <th>2</th>\n",
       "      <td>36698</td>\n",
       "      <td>True_Correct:NA True_Neither:NA False_Misconce...</td>\n",
       "    </tr>\n",
       "  </tbody>\n",
       "</table>\n",
       "</div>"
      ],
      "text/plain": [
       "   row_id                             Category:Misconception\n",
       "0   36696   True_Correct:NA True_Neither:NA False_Neither:NA\n",
       "1   36697  False_Misconception:Incomplete True_Correct:NA...\n",
       "2   36698  True_Correct:NA True_Neither:NA False_Misconce..."
      ]
     },
     "execution_count": 15,
     "metadata": {},
     "output_type": "execute_result"
    }
   ],
   "source": [
    "ytest2[:, 0] = 0\n",
    "predicted1 = np.argsort(-ytest1, 1)[:,:3]\n",
    "predicted2 = np.argsort(-ytest2, 1)[:,:3]\n",
    "\n",
    "predict = []\n",
    "for i in range(len(predicted1)):\n",
    "    pred = []\n",
    "    for j in range(3):\n",
    "        p1 = map_inverse1[predicted1[i, j]]\n",
    "        p2 = map_inverse2[predicted2[i, j]]        \n",
    "        if 'Misconception' in p1:\n",
    "            pred.append(p1 + \":\" + p2 )\n",
    "        else:\n",
    "            pred.append(p1 + \":NA\")\n",
    "    predict.append(\" \".join(pred))\n",
    "\n",
    "sub = pd.read_csv(\"/kaggle/input/map-charting-student-math-misunderstandings/sample_submission.csv\")\n",
    "sub['Category:Misconception'] = predict\n",
    "sub.to_csv(\"submission.csv\", index=False)\n",
    "sub"
   ]
  },
  {
   "cell_type": "code",
   "execution_count": null,
   "id": "398dd5ad",
   "metadata": {
    "papermill": {
     "duration": 0.004874,
     "end_time": "2025-07-10T20:39:59.144320",
     "exception": false,
     "start_time": "2025-07-10T20:39:59.139446",
     "status": "completed"
    },
    "tags": []
   },
   "outputs": [],
   "source": []
  }
 ],
 "metadata": {
  "kaggle": {
   "accelerator": "nvidiaTeslaT4",
   "dataSources": [
    {
     "databundleVersionId": 12957508,
     "sourceId": 104383,
     "sourceType": "competition"
    }
   ],
   "dockerImageVersionId": 31090,
   "isGpuEnabled": true,
   "isInternetEnabled": false,
   "language": "python",
   "sourceType": "notebook"
  },
  "kernelspec": {
   "display_name": "Python 3",
   "language": "python",
   "name": "python3"
  },
  "language_info": {
   "codemirror_mode": {
    "name": "ipython",
    "version": 3
   },
   "file_extension": ".py",
   "mimetype": "text/x-python",
   "name": "python",
   "nbconvert_exporter": "python",
   "pygments_lexer": "ipython3",
   "version": "3.11.13"
  },
  "papermill": {
   "default_parameters": {},
   "duration": 55.064151,
   "end_time": "2025-07-10T20:40:01.872360",
   "environment_variables": {},
   "exception": null,
   "input_path": "__notebook__.ipynb",
   "output_path": "__notebook__.ipynb",
   "parameters": {},
   "start_time": "2025-07-10T20:39:06.808209",
   "version": "2.6.0"
  }
 },
 "nbformat": 4,
 "nbformat_minor": 5
}
