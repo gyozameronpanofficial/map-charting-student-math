{
 "cells": [
  {
   "cell_type": "code",
   "execution_count": 1,
   "id": "f606b16a",
   "metadata": {
    "_cell_guid": "b1076dfc-b9ad-4769-8c92-a6c4dae69d19",
    "_uuid": "8f2839f25d086af736a60e9eeb907d3b93b6e0e5",
    "execution": {
     "iopub.execute_input": "2025-07-11T00:05:38.474146Z",
     "iopub.status.busy": "2025-07-11T00:05:38.473895Z",
     "iopub.status.idle": "2025-07-11T00:05:58.717573Z",
     "shell.execute_reply": "2025-07-11T00:05:58.716972Z"
    },
    "papermill": {
     "duration": 20.249358,
     "end_time": "2025-07-11T00:05:58.718839",
     "exception": false,
     "start_time": "2025-07-11T00:05:38.469481",
     "status": "completed"
    },
    "tags": []
   },
   "outputs": [
    {
     "name": "stdout",
     "output_type": "stream",
     "text": [
      "RAPIDS 25.02.01\n",
      "CPU times: user 6 s, sys: 1.38 s, total: 7.38 s\n",
      "Wall time: 20.2 s\n"
     ]
    }
   ],
   "source": [
    "%%time\n",
    "\n",
    "%load_ext cudf.pandas\n",
    "\n",
    "import numpy as np\n",
    "import cudf\n",
    "import cuml\n",
    "import pandas as pd\n",
    "import sklearn\n",
    "from cuml.feature_extraction.text import TfidfVectorizer\n",
    "from xgboost import XGBClassifier\n",
    "import sklearn.metrics\n",
    "from scipy import sparse\n",
    "from sklearn.model_selection import StratifiedKFold\n",
    "\n",
    "import re\n",
    "from nltk.stem import WordNetLemmatizer\n",
    "import nltk\n",
    "\n",
    "import warnings\n",
    "warnings.filterwarnings('ignore')\n",
    "\n",
    "print('RAPIDS',cuml.__version__)"
   ]
  },
  {
   "cell_type": "code",
   "execution_count": 2,
   "id": "54f76d5d",
   "metadata": {
    "execution": {
     "iopub.execute_input": "2025-07-11T00:05:58.726227Z",
     "iopub.status.busy": "2025-07-11T00:05:58.725769Z",
     "iopub.status.idle": "2025-07-11T00:06:02.711402Z",
     "shell.execute_reply": "2025-07-11T00:06:02.710656Z"
    },
    "papermill": {
     "duration": 3.990454,
     "end_time": "2025-07-11T00:06:02.712535",
     "exception": false,
     "start_time": "2025-07-11T00:05:58.722081",
     "status": "completed"
    },
    "tags": []
   },
   "outputs": [
    {
     "name": "stdout",
     "output_type": "stream",
     "text": [
      "(36696, 8) (3, 5)\n",
      "CPU times: user 2.72 s, sys: 225 ms, total: 2.95 s\n",
      "Wall time: 3.95 s\n"
     ]
    },
    {
     "data": {
      "text/html": [
       "<div>\n",
       "<style scoped>\n",
       "    .dataframe tbody tr th:only-of-type {\n",
       "        vertical-align: middle;\n",
       "    }\n",
       "\n",
       "    .dataframe tbody tr th {\n",
       "        vertical-align: top;\n",
       "    }\n",
       "\n",
       "    .dataframe thead th {\n",
       "        text-align: right;\n",
       "    }\n",
       "</style>\n",
       "<table border=\"1\" class=\"dataframe\">\n",
       "  <thead>\n",
       "    <tr style=\"text-align: right;\">\n",
       "      <th></th>\n",
       "      <th>row_id</th>\n",
       "      <th>QuestionId</th>\n",
       "      <th>QuestionText</th>\n",
       "      <th>MC_Answer</th>\n",
       "      <th>StudentExplanation</th>\n",
       "      <th>Category</th>\n",
       "      <th>Misconception</th>\n",
       "      <th>target_cat</th>\n",
       "    </tr>\n",
       "  </thead>\n",
       "  <tbody>\n",
       "    <tr>\n",
       "      <th>0</th>\n",
       "      <td>0</td>\n",
       "      <td>31772</td>\n",
       "      <td>What fraction of the shape is not shaded? Give...</td>\n",
       "      <td>\\( \\frac{1}{3} \\)</td>\n",
       "      <td>0ne third is equal to tree nineth</td>\n",
       "      <td>True_Correct</td>\n",
       "      <td>NA</td>\n",
       "      <td>True_Correct:NA</td>\n",
       "    </tr>\n",
       "    <tr>\n",
       "      <th>1</th>\n",
       "      <td>1</td>\n",
       "      <td>31772</td>\n",
       "      <td>What fraction of the shape is not shaded? Give...</td>\n",
       "      <td>\\( \\frac{1}{3} \\)</td>\n",
       "      <td>1 / 3 because 6 over 9 is 2 thirds and 1 third...</td>\n",
       "      <td>True_Correct</td>\n",
       "      <td>NA</td>\n",
       "      <td>True_Correct:NA</td>\n",
       "    </tr>\n",
       "    <tr>\n",
       "      <th>2</th>\n",
       "      <td>2</td>\n",
       "      <td>31772</td>\n",
       "      <td>What fraction of the shape is not shaded? Give...</td>\n",
       "      <td>\\( \\frac{1}{3} \\)</td>\n",
       "      <td>1 3rd is half of 3 6th, so it is simplee to un...</td>\n",
       "      <td>True_Neither</td>\n",
       "      <td>NA</td>\n",
       "      <td>True_Neither:NA</td>\n",
       "    </tr>\n",
       "    <tr>\n",
       "      <th>3</th>\n",
       "      <td>3</td>\n",
       "      <td>31772</td>\n",
       "      <td>What fraction of the shape is not shaded? Give...</td>\n",
       "      <td>\\( \\frac{1}{3} \\)</td>\n",
       "      <td>1 goes into everything and 3 goes into nine</td>\n",
       "      <td>True_Neither</td>\n",
       "      <td>NA</td>\n",
       "      <td>True_Neither:NA</td>\n",
       "    </tr>\n",
       "    <tr>\n",
       "      <th>4</th>\n",
       "      <td>4</td>\n",
       "      <td>31772</td>\n",
       "      <td>What fraction of the shape is not shaded? Give...</td>\n",
       "      <td>\\( \\frac{1}{3} \\)</td>\n",
       "      <td>1 out of every 3 isn't coloured</td>\n",
       "      <td>True_Correct</td>\n",
       "      <td>NA</td>\n",
       "      <td>True_Correct:NA</td>\n",
       "    </tr>\n",
       "  </tbody>\n",
       "</table>\n",
       "</div>"
      ],
      "text/plain": [
       "   row_id  QuestionId                                       QuestionText  \\\n",
       "0       0       31772  What fraction of the shape is not shaded? Give...   \n",
       "1       1       31772  What fraction of the shape is not shaded? Give...   \n",
       "2       2       31772  What fraction of the shape is not shaded? Give...   \n",
       "3       3       31772  What fraction of the shape is not shaded? Give...   \n",
       "4       4       31772  What fraction of the shape is not shaded? Give...   \n",
       "\n",
       "           MC_Answer                                 StudentExplanation  \\\n",
       "0  \\( \\frac{1}{3} \\)                  0ne third is equal to tree nineth   \n",
       "1  \\( \\frac{1}{3} \\)  1 / 3 because 6 over 9 is 2 thirds and 1 third...   \n",
       "2  \\( \\frac{1}{3} \\)  1 3rd is half of 3 6th, so it is simplee to un...   \n",
       "3  \\( \\frac{1}{3} \\)        1 goes into everything and 3 goes into nine   \n",
       "4  \\( \\frac{1}{3} \\)                    1 out of every 3 isn't coloured   \n",
       "\n",
       "       Category Misconception       target_cat  \n",
       "0  True_Correct            NA  True_Correct:NA  \n",
       "1  True_Correct            NA  True_Correct:NA  \n",
       "2  True_Neither            NA  True_Neither:NA  \n",
       "3  True_Neither            NA  True_Neither:NA  \n",
       "4  True_Correct            NA  True_Correct:NA  "
      ]
     },
     "execution_count": 2,
     "metadata": {},
     "output_type": "execute_result"
    }
   ],
   "source": [
    "%%time\n",
    "\n",
    "train = pd.read_csv(\"/kaggle/input/map-charting-student-math-misunderstandings/train.csv\")\n",
    "test = pd.read_csv(\"/kaggle/input/map-charting-student-math-misunderstandings/test.csv\")\n",
    "\n",
    "train['Misconception'] = train['Misconception'].fillna('NA')\n",
    "train['Misconception'] = train['Misconception'].map(str)\n",
    "train['target_cat'] = train.apply(lambda x: x['Category'] + \":\" + x['Misconception'], axis=1)\n",
    "\n",
    "print(train.shape, test.shape)\n",
    "train.head()"
   ]
  },
  {
   "cell_type": "code",
   "execution_count": 3,
   "id": "1218800a",
   "metadata": {
    "execution": {
     "iopub.execute_input": "2025-07-11T00:06:02.719589Z",
     "iopub.status.busy": "2025-07-11T00:06:02.719391Z",
     "iopub.status.idle": "2025-07-11T00:06:03.083435Z",
     "shell.execute_reply": "2025-07-11T00:06:03.082679Z"
    },
    "papermill": {
     "duration": 0.368873,
     "end_time": "2025-07-11T00:06:03.084659",
     "exception": false,
     "start_time": "2025-07-11T00:06:02.715786",
     "status": "completed"
    },
    "tags": []
   },
   "outputs": [
    {
     "name": "stdout",
     "output_type": "stream",
     "text": [
      "CPU times: user 46.2 ms, sys: 38.2 ms, total: 84.4 ms\n",
      "Wall time: 289 ms\n"
     ]
    },
    {
     "data": {
      "text/plain": [
       "target_cat\n",
       "True_Correct:NA                            14802\n",
       "False_Neither:NA                            6542\n",
       "True_Neither:NA                             5265\n",
       "False_Misconception:Incomplete              1446\n",
       "False_Misconception:Additive                 891\n",
       "                                           ...  \n",
       "True_Misconception:Adding_across               1\n",
       "True_Misconception:Base_rate                   1\n",
       "True_Misconception:Longer_is_bigger            1\n",
       "True_Misconception:Not_variable                1\n",
       "True_Misconception:Whole_numbers_larger        1\n",
       "Name: count, Length: 65, dtype: int64"
      ]
     },
     "execution_count": 3,
     "metadata": {},
     "output_type": "execute_result"
    }
   ],
   "source": [
    "%%time\n",
    "\n",
    "train['target_cat'].value_counts()"
   ]
  },
  {
   "cell_type": "code",
   "execution_count": 4,
   "id": "65d628af",
   "metadata": {
    "execution": {
     "iopub.execute_input": "2025-07-11T00:06:03.093276Z",
     "iopub.status.busy": "2025-07-11T00:06:03.092639Z",
     "iopub.status.idle": "2025-07-11T00:06:03.126230Z",
     "shell.execute_reply": "2025-07-11T00:06:03.125515Z"
    },
    "papermill": {
     "duration": 0.039058,
     "end_time": "2025-07-11T00:06:03.127410",
     "exception": false,
     "start_time": "2025-07-11T00:06:03.088352",
     "status": "completed"
    },
    "tags": []
   },
   "outputs": [
    {
     "name": "stdout",
     "output_type": "stream",
     "text": [
      "CPU times: user 21.7 ms, sys: 2.94 ms, total: 24.6 ms\n",
      "Wall time: 27.4 ms\n"
     ]
    },
    {
     "data": {
      "text/plain": [
       "{'True_Correct': 0,\n",
       " 'False_Misconception': 1,\n",
       " 'False_Neither': 2,\n",
       " 'True_Neither': 3,\n",
       " 'True_Misconception': 4,\n",
       " 'False_Correct': 5}"
      ]
     },
     "execution_count": 4,
     "metadata": {},
     "output_type": "execute_result"
    }
   ],
   "source": [
    "%%time\n",
    "\n",
    "map_target1 = train['Category'].value_counts().to_frame()\n",
    "map_target1['count'] = np.arange(len(map_target1))\n",
    "map_target1 = map_target1.to_dict()['count']\n",
    "\n",
    "map_target2 = train['Misconception'].value_counts().to_frame()\n",
    "map_target2['count'] = np.arange(len(map_target2))\n",
    "map_target2 = map_target2.to_dict()['count']\n",
    "\n",
    "map_target1"
   ]
  },
  {
   "cell_type": "code",
   "execution_count": 5,
   "id": "d5b68d8f",
   "metadata": {
    "execution": {
     "iopub.execute_input": "2025-07-11T00:06:03.134749Z",
     "iopub.status.busy": "2025-07-11T00:06:03.134367Z",
     "iopub.status.idle": "2025-07-11T00:06:03.350562Z",
     "shell.execute_reply": "2025-07-11T00:06:03.349772Z"
    },
    "papermill": {
     "duration": 0.221085,
     "end_time": "2025-07-11T00:06:03.351698",
     "exception": false,
     "start_time": "2025-07-11T00:06:03.130613",
     "status": "completed"
    },
    "tags": []
   },
   "outputs": [
    {
     "name": "stdout",
     "output_type": "stream",
     "text": [
      "CPU times: user 46.7 ms, sys: 32.6 ms, total: 79.3 ms\n",
      "Wall time: 160 ms\n"
     ]
    },
    {
     "data": {
      "text/plain": [
       "Category\n",
       "True_Correct           14802\n",
       "False_Misconception     9457\n",
       "False_Neither           6542\n",
       "True_Neither            5265\n",
       "True_Misconception       403\n",
       "False_Correct            227\n",
       "Name: count, dtype: int64"
      ]
     },
     "execution_count": 5,
     "metadata": {},
     "output_type": "execute_result"
    }
   ],
   "source": [
    "%%time\n",
    "\n",
    "train['target1'] = train['Category'].map(map_target1)\n",
    "train['target2'] = train['Misconception'].map(map_target2)\n",
    "\n",
    "train['Category'].value_counts()"
   ]
  },
  {
   "cell_type": "code",
   "execution_count": 6,
   "id": "cd45c7a3",
   "metadata": {
    "execution": {
     "iopub.execute_input": "2025-07-11T00:06:03.359519Z",
     "iopub.status.busy": "2025-07-11T00:06:03.359054Z",
     "iopub.status.idle": "2025-07-11T00:06:03.424036Z",
     "shell.execute_reply": "2025-07-11T00:06:03.423371Z"
    },
    "papermill": {
     "duration": 0.070238,
     "end_time": "2025-07-11T00:06:03.425364",
     "exception": false,
     "start_time": "2025-07-11T00:06:03.355126",
     "status": "completed"
    },
    "scrolled": true,
    "tags": []
   },
   "outputs": [
    {
     "name": "stdout",
     "output_type": "stream",
     "text": [
      "CPU times: user 7.81 ms, sys: 964 µs, total: 8.78 ms\n",
      "Wall time: 7.72 ms\n"
     ]
    },
    {
     "data": {
      "text/plain": [
       "Misconception\n",
       "NA                                        26836\n",
       "Incomplete                                 1454\n",
       "Additive                                    929\n",
       "Duplication                                 704\n",
       "Subtraction                                 620\n",
       "Positive                                    566\n",
       "Wrong_term                                  558\n",
       "Irrelevant                                  497\n",
       "Wrong_fraction                              418\n",
       "Inversion                                   414\n",
       "Mult                                        353\n",
       "Denominator-only_change                     336\n",
       "Whole_numbers_larger                        329\n",
       "Adding_across                               307\n",
       "WNB                                         299\n",
       "Tacking                                     290\n",
       "Unknowable                                  282\n",
       "Wrong_Fraction                              273\n",
       "SwapDividend                                206\n",
       "Scale                                       179\n",
       "Not_variable                                154\n",
       "Firstterm                                   107\n",
       "Adding_terms                                 97\n",
       "Multiplying_by_4                             96\n",
       "FlipChange                                   78\n",
       "Division                                     63\n",
       "Definition                                   54\n",
       "Interior                                     50\n",
       "Longer_is_bigger                             24\n",
       "Base_rate                                    23\n",
       "Ignores_zeroes                               23\n",
       "Shorter_is_bigger                            23\n",
       "Inverse_operation                            21\n",
       "Certainty                                    18\n",
       "Incorrect_equivalent_fraction_addition        9\n",
       "Wrong_Operation                               6\n",
       "Name: count, dtype: int64"
      ]
     },
     "execution_count": 6,
     "metadata": {},
     "output_type": "execute_result"
    }
   ],
   "source": [
    "%%time\n",
    "\n",
    "train['Misconception'].value_counts()"
   ]
  },
  {
   "cell_type": "markdown",
   "id": "1a5739dc",
   "metadata": {
    "papermill": {
     "duration": 0.00371,
     "end_time": "2025-07-11T00:06:03.432599",
     "exception": false,
     "start_time": "2025-07-11T00:06:03.428889",
     "status": "completed"
    },
    "tags": []
   },
   "source": [
    "# Train Target Category"
   ]
  },
  {
   "cell_type": "code",
   "execution_count": 7,
   "id": "f686b4f2",
   "metadata": {
    "execution": {
     "iopub.execute_input": "2025-07-11T00:06:03.440712Z",
     "iopub.status.busy": "2025-07-11T00:06:03.440471Z",
     "iopub.status.idle": "2025-07-11T00:06:19.255990Z",
     "shell.execute_reply": "2025-07-11T00:06:19.255170Z"
    },
    "papermill": {
     "duration": 15.82097,
     "end_time": "2025-07-11T00:06:19.257171",
     "exception": false,
     "start_time": "2025-07-11T00:06:03.436201",
     "status": "completed"
    },
    "tags": []
   },
   "outputs": [
    {
     "name": "stdout",
     "output_type": "stream",
     "text": [
      "Train sparse shape is (36696, 62255)\n",
      "Test sparse shape is (3, 62255)\n",
      "CPU times: user 13.4 s, sys: 698 ms, total: 14.1 s\n",
      "Wall time: 15.8 s\n"
     ]
    }
   ],
   "source": [
    "%%time\n",
    "\n",
    "train['sentence'] = \"Question: \" + train['QuestionText'].astype(str) + \\\n",
    "                    \" Answer: \" + train['MC_Answer'].astype(str) + \\\n",
    "                    \" Explanation: \" + train['StudentExplanation'].astype(str)\n",
    "\n",
    "test['sentence'] = \"Question: \" + test['QuestionText'].astype(str) + \\\n",
    "                   \" Answer: \" + test['MC_Answer'].astype(str) + \\\n",
    "                   \" Explanation: \" + test['StudentExplanation'].astype(str)\n",
    "\n",
    "clean_newlines = re.compile(r'\\n+')\n",
    "clean_spaces = re.compile(r'\\s+')\n",
    "clean_punct = re.compile(r'[^a-zA-Z0-9\\s]')\n",
    "\n",
    "def fast_clean(text):\n",
    "    text = clean_newlines.sub(' ', text)\n",
    "    text = clean_spaces.sub(' ', text)\n",
    "    text = clean_punct.sub('', text)\n",
    "    return text.strip().lower()\n",
    "\n",
    "train['sentence'] = train['sentence'].apply(fast_clean)\n",
    "test['sentence'] = test['sentence'].apply(fast_clean)\n",
    "\n",
    "lemmatizer = WordNetLemmatizer()\n",
    "\n",
    "def fast_lemmatize(text):\n",
    "    return \" \".join([lemmatizer.lemmatize(word) for word in text.split()])\n",
    "\n",
    "train['sentence'] = train['sentence'].apply(fast_lemmatize)\n",
    "test['sentence'] = test['sentence'].apply(fast_lemmatize)\n",
    "\n",
    "model = TfidfVectorizer(stop_words='english', ngram_range=(1, 4), analyzer='word', max_df=0.95, min_df=2,)\n",
    "\n",
    "model.fit(pd.concat([train['sentence'], test['sentence']]))\n",
    "\n",
    "train_embeddings = model.transform(train['sentence'])\n",
    "test_embeddings = model.transform(test['sentence'])\n",
    "print('Train sparse shape is', train_embeddings.shape)\n",
    "print('Test sparse shape is', test_embeddings.shape)"
   ]
  },
  {
   "cell_type": "code",
   "execution_count": 8,
   "id": "0be2468b",
   "metadata": {
    "execution": {
     "iopub.execute_input": "2025-07-11T00:06:19.266327Z",
     "iopub.status.busy": "2025-07-11T00:06:19.266066Z",
     "iopub.status.idle": "2025-07-11T00:06:25.671401Z",
     "shell.execute_reply": "2025-07-11T00:06:25.670601Z"
    },
    "papermill": {
     "duration": 6.410646,
     "end_time": "2025-07-11T00:06:25.672534",
     "exception": false,
     "start_time": "2025-07-11T00:06:19.261888",
     "status": "completed"
    },
    "tags": []
   },
   "outputs": [
    {
     "name": "stdout",
     "output_type": "stream",
     "text": [
      "Fold 0, 33026, 3670:\n",
      "Fold 1, 33026, 3670:\n",
      "Fold 2, 33026, 3670:\n",
      "Fold 3, 33026, 3670:\n",
      "Fold 4, 33026, 3670:\n",
      "Fold 5, 33026, 3670:\n",
      "Fold 6, 33027, 3669:\n",
      "Fold 7, 33027, 3669:\n",
      "Fold 8, 33027, 3669:\n",
      "Fold 9, 33027, 3669:\n",
      "ACC: 0.7796762589928058\n",
      "F1: 0.7638567799062028\n",
      "CPU times: user 5.42 s, sys: 707 ms, total: 6.13 s\n",
      "Wall time: 6.4 s\n"
     ]
    }
   ],
   "source": [
    "%%time\n",
    "\n",
    "ytrain1 = np.zeros((len(train), len(map_target1)))\n",
    "ytest1 = np.zeros((len(test), len(map_target1)))\n",
    "\n",
    "skf = StratifiedKFold(n_splits=10, shuffle=True, random_state=0)\n",
    "for i, (train_index, valid_index) in enumerate(skf.split(train_embeddings, train['target1'])):\n",
    "    print(f\"Fold {i}, {len(train_index)}, {len(valid_index)}:\")\n",
    "    model = cuml.LogisticRegression()\n",
    "    model.fit(train_embeddings[train_index], train['target1'].iloc[train_index])\n",
    "    ytrain1[valid_index] = model.predict_proba(train_embeddings[valid_index]).get()\n",
    "    ytest1 += (model.predict_proba(test_embeddings).get() / 10.)\n",
    "\n",
    "print(\"ACC:\", np.mean( train['target1'] == np.argmax(ytrain1, 1) ) )\n",
    "print(\"F1:\", sklearn.metrics.f1_score(train['target1'] , np.argmax(ytrain1, 1), average='weighted') )"
   ]
  },
  {
   "cell_type": "markdown",
   "id": "9d8aa03c",
   "metadata": {
    "papermill": {
     "duration": 0.00396,
     "end_time": "2025-07-11T00:06:25.680507",
     "exception": false,
     "start_time": "2025-07-11T00:06:25.676547",
     "status": "completed"
    },
    "tags": []
   },
   "source": [
    "# Train Target Misconception"
   ]
  },
  {
   "cell_type": "code",
   "execution_count": 9,
   "id": "a7b50cbf",
   "metadata": {
    "execution": {
     "iopub.execute_input": "2025-07-11T00:06:25.689096Z",
     "iopub.status.busy": "2025-07-11T00:06:25.688590Z",
     "iopub.status.idle": "2025-07-11T00:06:26.609177Z",
     "shell.execute_reply": "2025-07-11T00:06:26.608274Z"
    },
    "papermill": {
     "duration": 0.92621,
     "end_time": "2025-07-11T00:06:26.610516",
     "exception": false,
     "start_time": "2025-07-11T00:06:25.684306",
     "status": "completed"
    },
    "tags": []
   },
   "outputs": [
    {
     "name": "stdout",
     "output_type": "stream",
     "text": [
      "Train sparse shape is (36696, 41190)\n",
      "Test sparse shape is (3, 41190)\n",
      "CPU times: user 806 ms, sys: 121 ms, total: 927 ms\n",
      "Wall time: 916 ms\n"
     ]
    }
   ],
   "source": [
    "%%time\n",
    "\n",
    "model = TfidfVectorizer(stop_words='english', ngram_range=(1, 3), analyzer='word', max_df=0.95, min_df=2)\n",
    "\n",
    "model.fit(pd.concat([train, test]).sentence)\n",
    "\n",
    "train_embeddings = model.transform(train.sentence)\n",
    "print('Train sparse shape is',train_embeddings.shape)\n",
    "\n",
    "test_embeddings = model.transform(test.sentence)\n",
    "print('Test sparse shape is',test_embeddings.shape)"
   ]
  },
  {
   "cell_type": "code",
   "execution_count": 10,
   "id": "9c5f6e6c",
   "metadata": {
    "execution": {
     "iopub.execute_input": "2025-07-11T00:06:26.620558Z",
     "iopub.status.busy": "2025-07-11T00:06:26.620287Z",
     "iopub.status.idle": "2025-07-11T00:06:33.051858Z",
     "shell.execute_reply": "2025-07-11T00:06:33.050918Z"
    },
    "papermill": {
     "duration": 6.437947,
     "end_time": "2025-07-11T00:06:33.053053",
     "exception": false,
     "start_time": "2025-07-11T00:06:26.615106",
     "status": "completed"
    },
    "tags": []
   },
   "outputs": [
    {
     "name": "stdout",
     "output_type": "stream",
     "text": [
      "Fold 0, 33026, 3670:\n",
      "Fold 1, 33026, 3670:\n",
      "Fold 2, 33026, 3670:\n",
      "Fold 3, 33026, 3670:\n",
      "Fold 4, 33026, 3670:\n",
      "Fold 5, 33026, 3670:\n",
      "Fold 6, 33027, 3669:\n",
      "Fold 7, 33027, 3669:\n",
      "Fold 8, 33027, 3669:\n",
      "Fold 9, 33027, 3669:\n",
      "ACC: 0.8718661434488773\n",
      "F1: 0.8599159013343904\n",
      "CPU times: user 5.98 s, sys: 471 ms, total: 6.45 s\n",
      "Wall time: 6.43 s\n"
     ]
    }
   ],
   "source": [
    "%%time\n",
    "\n",
    "ytrain2 = np.zeros((len(train), len(map_target2)))\n",
    "ytest2 = np.zeros((len(test), len(map_target2)))\n",
    "\n",
    "skf = StratifiedKFold(n_splits=10, shuffle=True, random_state=0)\n",
    "for i, (train_index, valid_index) in enumerate(skf.split(train_embeddings, train['target2'])):\n",
    "    print(f\"Fold {i}, {len(train_index)}, {len(valid_index)}:\")\n",
    "    model = cuml.LogisticRegression(class_weight='balanced')\n",
    "    model.fit(train_embeddings[train_index], train['target2'].iloc[train_index])\n",
    "    ytrain2[valid_index] = model.predict_proba(train_embeddings[valid_index]).get()\n",
    "    ytest2 += (model.predict_proba(test_embeddings).get() / 10.)\n",
    "\n",
    "print(\"ACC:\", np.mean( train['target2'] == np.argmax(ytrain2, 1) ) )\n",
    "print(\"F1:\", sklearn.metrics.f1_score(train['target2'] , np.argmax(ytrain2, 1), average='weighted') )"
   ]
  },
  {
   "cell_type": "code",
   "execution_count": 11,
   "id": "332933d6",
   "metadata": {
    "execution": {
     "iopub.execute_input": "2025-07-11T00:06:33.063234Z",
     "iopub.status.busy": "2025-07-11T00:06:33.062985Z",
     "iopub.status.idle": "2025-07-11T00:06:33.067096Z",
     "shell.execute_reply": "2025-07-11T00:06:33.066378Z"
    },
    "papermill": {
     "duration": 0.010337,
     "end_time": "2025-07-11T00:06:33.068099",
     "exception": false,
     "start_time": "2025-07-11T00:06:33.057762",
     "status": "completed"
    },
    "tags": []
   },
   "outputs": [
    {
     "name": "stdout",
     "output_type": "stream",
     "text": [
      "CPU times: user 15 µs, sys: 1 µs, total: 16 µs\n",
      "Wall time: 18.6 µs\n"
     ]
    }
   ],
   "source": [
    "%%time\n",
    "\n",
    "map_inverse1 = {map_target1[k]:k for k in map_target1}\n",
    "map_inverse2 = {map_target2[k]:k for k in map_target2}"
   ]
  },
  {
   "cell_type": "code",
   "execution_count": 12,
   "id": "eb735d68",
   "metadata": {
    "execution": {
     "iopub.execute_input": "2025-07-11T00:06:33.077763Z",
     "iopub.status.busy": "2025-07-11T00:06:33.077399Z",
     "iopub.status.idle": "2025-07-11T00:06:33.109716Z",
     "shell.execute_reply": "2025-07-11T00:06:33.109027Z"
    },
    "papermill": {
     "duration": 0.038347,
     "end_time": "2025-07-11T00:06:33.110917",
     "exception": false,
     "start_time": "2025-07-11T00:06:33.072570",
     "status": "completed"
    },
    "tags": []
   },
   "outputs": [
    {
     "name": "stdout",
     "output_type": "stream",
     "text": [
      "CPU times: user 24 ms, sys: 5 ms, total: 29 ms\n",
      "Wall time: 28.3 ms\n"
     ]
    }
   ],
   "source": [
    "%%time\n",
    "\n",
    "ytrain2[:, 0] = 0\n",
    "predicted1 = np.argsort(-ytrain1, 1)[:,:3]\n",
    "predicted2 = np.argsort(-ytrain2, 1)[:,:3]"
   ]
  },
  {
   "cell_type": "code",
   "execution_count": 13,
   "id": "5ac658b6",
   "metadata": {
    "execution": {
     "iopub.execute_input": "2025-07-11T00:06:33.121780Z",
     "iopub.status.busy": "2025-07-11T00:06:33.121551Z",
     "iopub.status.idle": "2025-07-11T00:06:33.482794Z",
     "shell.execute_reply": "2025-07-11T00:06:33.482013Z"
    },
    "papermill": {
     "duration": 0.3683,
     "end_time": "2025-07-11T00:06:33.484033",
     "exception": false,
     "start_time": "2025-07-11T00:06:33.115733",
     "status": "completed"
    },
    "tags": []
   },
   "outputs": [
    {
     "name": "stdout",
     "output_type": "stream",
     "text": [
      "0.77068345323741\n",
      "0.1551122738173098\n",
      "0.012671680837148463\n",
      "CPU times: user 356 ms, sys: 2.1 ms, total: 358 ms\n",
      "Wall time: 356 ms\n"
     ]
    }
   ],
   "source": [
    "%%time\n",
    "\n",
    "predict = []\n",
    "for i in range(len(predicted1)):\n",
    "    pred = []\n",
    "    for j in range(3):\n",
    "        p1 = map_inverse1[predicted1[i, j]]\n",
    "        p2 = map_inverse2[predicted2[i, j]]        \n",
    "        if 'Misconception' in p1:\n",
    "            pred.append(p1 + \":\" + p2 )\n",
    "        else:\n",
    "            pred.append(p1 + \":NA\")\n",
    "    predict.append(pred)\n",
    "\n",
    "#Acc 1\n",
    "print( np.mean(train['target_cat'] == [p[0] for p in predict]) )\n",
    "#Acc 2\n",
    "print( np.mean(train['target_cat'] == [p[1] for p in predict]) )\n",
    "#Acc 3\n",
    "print( np.mean(train['target_cat'] == [p[2] for p in predict]) )"
   ]
  },
  {
   "cell_type": "code",
   "execution_count": 14,
   "id": "a4ea0a96",
   "metadata": {
    "execution": {
     "iopub.execute_input": "2025-07-11T00:06:33.494183Z",
     "iopub.status.busy": "2025-07-11T00:06:33.493770Z",
     "iopub.status.idle": "2025-07-11T00:06:33.514601Z",
     "shell.execute_reply": "2025-07-11T00:06:33.513958Z"
    },
    "papermill": {
     "duration": 0.026991,
     "end_time": "2025-07-11T00:06:33.515659",
     "exception": false,
     "start_time": "2025-07-11T00:06:33.488668",
     "status": "completed"
    },
    "tags": []
   },
   "outputs": [
    {
     "name": "stdout",
     "output_type": "stream",
     "text": [
      "MAP@3: 0.852463483758447\n",
      "CPU times: user 16.8 ms, sys: 0 ns, total: 16.8 ms\n",
      "Wall time: 16.5 ms\n"
     ]
    }
   ],
   "source": [
    "%%time\n",
    "\n",
    "def map3(target_list, pred_list):\n",
    "    score = 0.\n",
    "    for t, p in zip(target_list, pred_list):\n",
    "        if t == p[0]:\n",
    "            score+=1.\n",
    "        elif t == p[1]:\n",
    "            score+=1/2\n",
    "        elif t == p[2]:\n",
    "            score+=1/3\n",
    "    return score / len(target_list)\n",
    "        \n",
    "print(f\"MAP@3: {map3(train['target_cat'].tolist(), predict)}\") "
   ]
  },
  {
   "cell_type": "markdown",
   "id": "e23181f6",
   "metadata": {
    "papermill": {
     "duration": 0.004293,
     "end_time": "2025-07-11T00:06:33.524435",
     "exception": false,
     "start_time": "2025-07-11T00:06:33.520142",
     "status": "completed"
    },
    "tags": []
   },
   "source": [
    "# Generate Test Predictions:"
   ]
  },
  {
   "cell_type": "code",
   "execution_count": 15,
   "id": "a2448a2c",
   "metadata": {
    "execution": {
     "iopub.execute_input": "2025-07-11T00:06:33.534161Z",
     "iopub.status.busy": "2025-07-11T00:06:33.533787Z",
     "iopub.status.idle": "2025-07-11T00:06:33.583691Z",
     "shell.execute_reply": "2025-07-11T00:06:33.583108Z"
    },
    "papermill": {
     "duration": 0.056073,
     "end_time": "2025-07-11T00:06:33.584772",
     "exception": false,
     "start_time": "2025-07-11T00:06:33.528699",
     "status": "completed"
    },
    "tags": []
   },
   "outputs": [
    {
     "name": "stdout",
     "output_type": "stream",
     "text": [
      "CPU times: user 12.9 ms, sys: 2.21 ms, total: 15.1 ms\n",
      "Wall time: 38.7 ms\n"
     ]
    },
    {
     "data": {
      "text/html": [
       "<div>\n",
       "<style scoped>\n",
       "    .dataframe tbody tr th:only-of-type {\n",
       "        vertical-align: middle;\n",
       "    }\n",
       "\n",
       "    .dataframe tbody tr th {\n",
       "        vertical-align: top;\n",
       "    }\n",
       "\n",
       "    .dataframe thead th {\n",
       "        text-align: right;\n",
       "    }\n",
       "</style>\n",
       "<table border=\"1\" class=\"dataframe\">\n",
       "  <thead>\n",
       "    <tr style=\"text-align: right;\">\n",
       "      <th></th>\n",
       "      <th>row_id</th>\n",
       "      <th>Category:Misconception</th>\n",
       "    </tr>\n",
       "  </thead>\n",
       "  <tbody>\n",
       "    <tr>\n",
       "      <th>0</th>\n",
       "      <td>36696</td>\n",
       "      <td>True_Correct:NA True_Neither:NA False_Neither:NA</td>\n",
       "    </tr>\n",
       "    <tr>\n",
       "      <th>1</th>\n",
       "      <td>36697</td>\n",
       "      <td>False_Misconception:WNB False_Neither:NA True_...</td>\n",
       "    </tr>\n",
       "    <tr>\n",
       "      <th>2</th>\n",
       "      <td>36698</td>\n",
       "      <td>True_Neither:NA True_Correct:NA False_Misconce...</td>\n",
       "    </tr>\n",
       "  </tbody>\n",
       "</table>\n",
       "</div>"
      ],
      "text/plain": [
       "   row_id                             Category:Misconception\n",
       "0   36696   True_Correct:NA True_Neither:NA False_Neither:NA\n",
       "1   36697  False_Misconception:WNB False_Neither:NA True_...\n",
       "2   36698  True_Neither:NA True_Correct:NA False_Misconce..."
      ]
     },
     "execution_count": 15,
     "metadata": {},
     "output_type": "execute_result"
    }
   ],
   "source": [
    "%%time\n",
    "\n",
    "ytest2[:, 0] = 0\n",
    "predicted1 = np.argsort(-ytest1, 1)[:,:3]\n",
    "predicted2 = np.argsort(-ytest2, 1)[:,:3]\n",
    "\n",
    "predict = []\n",
    "for i in range(len(predicted1)):\n",
    "    pred = []\n",
    "    for j in range(3):\n",
    "        p1 = map_inverse1[predicted1[i, j]]\n",
    "        p2 = map_inverse2[predicted2[i, j]]        \n",
    "        if 'Misconception' in p1:\n",
    "            pred.append(p1 + \":\" + p2 )\n",
    "        else:\n",
    "            pred.append(p1 + \":NA\")\n",
    "    predict.append(\" \".join(pred))\n",
    "\n",
    "sub = pd.read_csv(\"/kaggle/input/map-charting-student-math-misunderstandings/sample_submission.csv\")\n",
    "sub['Category:Misconception'] = predict\n",
    "sub.to_csv(\"submission.csv\", index=False)\n",
    "sub"
   ]
  }
 ],
 "metadata": {
  "kaggle": {
   "accelerator": "nvidiaTeslaT4",
   "dataSources": [
    {
     "databundleVersionId": 12957508,
     "sourceId": 104383,
     "sourceType": "competition"
    }
   ],
   "dockerImageVersionId": 31090,
   "isGpuEnabled": true,
   "isInternetEnabled": false,
   "language": "python",
   "sourceType": "notebook"
  },
  "kernelspec": {
   "display_name": "Python 3",
   "language": "python",
   "name": "python3"
  },
  "language_info": {
   "codemirror_mode": {
    "name": "ipython",
    "version": 3
   },
   "file_extension": ".py",
   "mimetype": "text/x-python",
   "name": "python",
   "nbconvert_exporter": "python",
   "pygments_lexer": "ipython3",
   "version": "3.11.13"
  },
  "papermill": {
   "default_parameters": {},
   "duration": 63.910516,
   "end_time": "2025-07-11T00:06:36.801664",
   "environment_variables": {},
   "exception": null,
   "input_path": "__notebook__.ipynb",
   "output_path": "__notebook__.ipynb",
   "parameters": {},
   "start_time": "2025-07-11T00:05:32.891148",
   "version": "2.6.0"
  }
 },
 "nbformat": 4,
 "nbformat_minor": 5
}
